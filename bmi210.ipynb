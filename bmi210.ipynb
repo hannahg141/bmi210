{
 "cells": [
  {
   "cell_type": "markdown",
   "id": "4dcddc5c-9a07-49c3-92ad-6efca525ab93",
   "metadata": {},
   "source": [
    "# Modeling Hodgkin Lymphoma and Associated Treatment Guidelines in OWL - Python Extension"
   ]
  },
  {
   "cell_type": "markdown",
   "id": "4eebe4f3-dd27-4a2d-a36f-faad18a6c2a8",
   "metadata": {},
   "source": [
    "#### load packages"
   ]
  },
  {
   "cell_type": "code",
   "execution_count": 1,
   "id": "f99107bb-7a00-4f83-84fe-5f148f0497b5",
   "metadata": {},
   "outputs": [
    {
     "name": "stdout",
     "output_type": "stream",
     "text": [
      "\u001b[33mDEPRECATION: Configuring installation scheme with distutils config files is deprecated and will no longer work in the near future. If you are using a Homebrew or Linuxbrew Python, please see discussion at https://github.com/Homebrew/homebrew-core/issues/76621\u001b[0m\n",
      "Requirement already satisfied: owlready2 in /usr/local/lib/python3.9/site-packages (0.36)\n",
      "\u001b[33mWARNING: You are using pip version 21.3.1; however, version 22.0.3 is available.\n",
      "You should consider upgrading via the '/usr/local/opt/python@3.9/bin/python3.9 -m pip install --upgrade pip' command.\u001b[0m\n"
     ]
    },
    {
     "name": "stderr",
     "output_type": "stream",
     "text": [
      "* Owlready2 * Warning: optimized Cython parser module 'owlready2_optimized' is not available, defaulting to slower Python implementation\n"
     ]
    }
   ],
   "source": [
    "!pip3 install owlready2\n",
    "from owlready2 import *"
   ]
  },
  {
   "cell_type": "markdown",
   "id": "43fdbfaf-2481-42ce-b5b2-7625ee8873ed",
   "metadata": {},
   "source": [
    "#### load our ontology"
   ]
  },
  {
   "cell_type": "code",
   "execution_count": 2,
   "id": "f9d6cde9-71cc-4f85-965f-1a1b9990172a",
   "metadata": {},
   "outputs": [
    {
     "data": {
      "text/plain": [
       "get_ontology(\"http://www.stanford.edu/BMI210/hgrossman-mschwede-jkong-mzielinski#\")"
      ]
     },
     "execution_count": 2,
     "metadata": {},
     "output_type": "execute_result"
    }
   ],
   "source": [
    "onto_path = \"/Users/hgrossman/stanford/bmi210/BMI210Hodgkins.owl\"\n",
    "onto = get_ontology(onto_path)\n",
    "onto.load()"
   ]
  },
  {
   "cell_type": "markdown",
   "id": "32976236-0ed9-4b7e-a55d-a13495bc991e",
   "metadata": {},
   "source": [
    "#### explore the attributes of our ontology"
   ]
  },
  {
   "cell_type": "code",
   "execution_count": 3,
   "id": "4c06f3e3-2c9f-4f80-968d-65b73d1b4c62",
   "metadata": {},
   "outputs": [
    {
     "data": {
      "text/plain": [
       "[BMI210Hodgkins.ABVD,\n",
       " BMI210Hodgkins.AVD,\n",
       " BMI210Hodgkins.AboveDiaphragm,\n",
       " BMI210Hodgkins.AgeIPS,\n",
       " BMI210Hodgkins.AlbuminIPS,\n",
       " BMI210Hodgkins.BEACOPP,\n",
       " BMI210Hodgkins.BSymptoms,\n",
       " BMI210Hodgkins.BelowDiaphragm,\n",
       " BMI210Hodgkins.Brentuximab,\n",
       " BMI210Hodgkins.BulkyDisease,\n",
       " BMI210Hodgkins.CHOP,\n",
       " BMI210Hodgkins.CVbP,\n",
       " BMI210Hodgkins.Classic,\n",
       " BMI210Hodgkins.ClinicalFeatures,\n",
       " BMI210Hodgkins.Distant,\n",
       " BMI210Hodgkins.EarlyClassic,\n",
       " BMI210Hodgkins.EarlyNL,\n",
       " BMI210Hodgkins.ExtranodalRegions,\n",
       " BMI210Hodgkins.Favorable,\n",
       " BMI210Hodgkins.Fever,\n",
       " BMI210Hodgkins.GenderIPS,\n",
       " BMI210Hodgkins.HemoglobinIPS,\n",
       " BMI210Hodgkins.HighIPS,\n",
       " BMI210Hodgkins.HodgkinLymphoma,\n",
       " BMI210Hodgkins.I,\n",
       " BMI210Hodgkins.IA,\n",
       " BMI210Hodgkins.IB,\n",
       " BMI210Hodgkins.II,\n",
       " BMI210Hodgkins.IIA,\n",
       " BMI210Hodgkins.IIB,\n",
       " BMI210Hodgkins.III,\n",
       " BMI210Hodgkins.IPSComponents,\n",
       " BMI210Hodgkins.ISRT,\n",
       " BMI210Hodgkins.IV,\n",
       " BMI210Hodgkins.LAxilla,\n",
       " BMI210Hodgkins.LCervicalSCL,\n",
       " BMI210Hodgkins.LICLSubpectoral,\n",
       " BMI210Hodgkins.LIliac,\n",
       " BMI210Hodgkins.LInguinalFemoral,\n",
       " BMI210Hodgkins.LateClassic,\n",
       " BMI210Hodgkins.LateNL,\n",
       " BMI210Hodgkins.LeftHilum,\n",
       " BMI210Hodgkins.Localized,\n",
       " BMI210Hodgkins.LymphocytesIPS,\n",
       " BMI210Hodgkins.Mediastinum,\n",
       " BMI210Hodgkins.Medical,\n",
       " BMI210Hodgkins.Mesenteric,\n",
       " BMI210Hodgkins.NightSweats,\n",
       " BMI210Hodgkins.NodalRegions,\n",
       " BMI210Hodgkins.NodularLymphocytePredominant,\n",
       " BMI210Hodgkins.Observation,\n",
       " BMI210Hodgkins.Patient,\n",
       " BMI210Hodgkins.PatientWithHodgkins,\n",
       " BMI210Hodgkins.RAxilla,\n",
       " BMI210Hodgkins.RCervicalSCL,\n",
       " BMI210Hodgkins.RHilum,\n",
       " BMI210Hodgkins.RICLSubpectoral,\n",
       " BMI210Hodgkins.RInguinalFemoral,\n",
       " BMI210Hodgkins.Radiation,\n",
       " BMI210Hodgkins.Rituximab,\n",
       " BMI210Hodgkins.Rliac,\n",
       " BMI210Hodgkins.Spleen,\n",
       " BMI210Hodgkins.Stage,\n",
       " BMI210Hodgkins.StageIPS,\n",
       " BMI210Hodgkins.Treatment,\n",
       " BMI210Hodgkins.Unfavorable,\n",
       " BMI210Hodgkins.WeightLoss,\n",
       " BMI210Hodgkins.WhiteBloodCellsIPS]"
      ]
     },
     "execution_count": 3,
     "metadata": {},
     "output_type": "execute_result"
    }
   ],
   "source": [
    "list(onto.classes())"
   ]
  },
  {
   "cell_type": "code",
   "execution_count": 4,
   "id": "e8ecc4af-422b-4103-a824-edd4ea0325b1",
   "metadata": {},
   "outputs": [
    {
     "data": {
      "text/plain": [
       "[BMI210Hodgkins.HasExtranodalRegion,\n",
       " BMI210Hodgkins.HasIPSScore,\n",
       " BMI210Hodgkins.HasLymphNodeRegion,\n",
       " BMI210Hodgkins.HasSize,\n",
       " BMI210Hodgkins.HasStage,\n",
       " BMI210Hodgkins.HasSymptoms]"
      ]
     },
     "execution_count": 4,
     "metadata": {},
     "output_type": "execute_result"
    }
   ],
   "source": [
    "list(onto.object_properties())"
   ]
  },
  {
   "cell_type": "code",
   "execution_count": 5,
   "id": "1f174d20-e692-4081-81db-b811e2006c6c",
   "metadata": {},
   "outputs": [
    {
     "data": {
      "text/plain": [
       "[AllDisjoint([BMI210Hodgkins.ABVD, BMI210Hodgkins.AVD, BMI210Hodgkins.BEACOPP, BMI210Hodgkins.CHOP, BMI210Hodgkins.CVbP]),\n",
       " AllDisjoint([BMI210Hodgkins.ABVD, BMI210Hodgkins.Brentuximab]),\n",
       " AllDisjoint([BMI210Hodgkins.BEACOPP, BMI210Hodgkins.Brentuximab]),\n",
       " AllDisjoint([BMI210Hodgkins.Brentuximab, BMI210Hodgkins.CHOP]),\n",
       " AllDisjoint([BMI210Hodgkins.Brentuximab, BMI210Hodgkins.CVbP])]"
      ]
     },
     "execution_count": 5,
     "metadata": {},
     "output_type": "execute_result"
    }
   ],
   "source": [
    "list(onto.disjoint_classes())"
   ]
  },
  {
   "cell_type": "code",
   "execution_count": 6,
   "id": "2176ccfa-3421-4be4-a938-afcd389b322c",
   "metadata": {},
   "outputs": [
    {
     "data": {
      "text/plain": [
       "[AllDisjoint([BMI210Hodgkins.ABVD, BMI210Hodgkins.AVD, BMI210Hodgkins.BEACOPP, BMI210Hodgkins.CHOP, BMI210Hodgkins.CVbP]),\n",
       " AllDisjoint([BMI210Hodgkins.ABVD, BMI210Hodgkins.Brentuximab]),\n",
       " AllDisjoint([BMI210Hodgkins.BEACOPP, BMI210Hodgkins.Brentuximab]),\n",
       " AllDisjoint([BMI210Hodgkins.Brentuximab, BMI210Hodgkins.CHOP]),\n",
       " AllDisjoint([BMI210Hodgkins.Brentuximab, BMI210Hodgkins.CVbP])]"
      ]
     },
     "execution_count": 6,
     "metadata": {},
     "output_type": "execute_result"
    }
   ],
   "source": [
    "list(onto.disjoints())"
   ]
  },
  {
   "cell_type": "markdown",
   "id": "0369c520-8819-4238-8c4e-250f9d72aa6d",
   "metadata": {},
   "source": [
    "#### make properties easier to access"
   ]
  },
  {
   "cell_type": "code",
   "execution_count": 7,
   "id": "6e8bc02c-2de3-4a18-a557-00351d2f2515",
   "metadata": {},
   "outputs": [],
   "source": [
    "data_properties = list(onto.data_properties())\n",
    "python_names = [str(klass)[15:] for klass in list(onto.data_properties())]\n",
    "\n",
    "for prop, name in zip(data_properties, python_names):\n",
    "    prop.python_name = name"
   ]
  },
  {
   "cell_type": "code",
   "execution_count": 8,
   "id": "5679ca83-8111-4054-87ae-e4a35444525b",
   "metadata": {},
   "outputs": [
    {
     "data": {
      "text/plain": [
       "['Age',\n",
       " 'Albumin',\n",
       " 'Deauville',\n",
       " 'Demographic',\n",
       " 'ESR',\n",
       " 'ExtranodalInvolvement',\n",
       " 'Gender',\n",
       " 'Hemoglobin',\n",
       " 'Histology',\n",
       " 'Labs',\n",
       " 'LymphocyteCount',\n",
       " 'Lymphocytepercentage',\n",
       " 'MaxSize',\n",
       " 'MediastinalMassRatio',\n",
       " 'RadiologyFeatures',\n",
       " 'Symptoms',\n",
       " 'Temperature',\n",
       " 'VitalSigns',\n",
       " 'WeightChange',\n",
       " 'WhiteBloodCells']"
      ]
     },
     "execution_count": 8,
     "metadata": {},
     "output_type": "execute_result"
    }
   ],
   "source": [
    "python_names"
   ]
  },
  {
   "cell_type": "markdown",
   "id": "5caf52a8-ff16-49fc-bf30-78788f46fe41",
   "metadata": {},
   "source": [
    "#### Create a Patient Class to dynamically interact with our ontology"
   ]
  },
  {
   "cell_type": "code",
   "execution_count": 27,
   "id": "9f4b89de-9e85-4354-903b-f1d3f8e2803a",
   "metadata": {},
   "outputs": [],
   "source": [
    "class Patient:\n",
    "    def __init__(self, name: str, age: int, gender: str):\n",
    "        self.patient = onto.Patient(name)\n",
    "        self.patient.Age = age\n",
    "        self.patient.Gender = gender\n",
    "\n",
    "    def set_nodal_regions(self, nodes: list):\n",
    "        self.patient.HasLymphNodeRegion.extend(nodes)\n",
    "        \n",
    "    def set_symptoms(self, symptoms: list):\n",
    "        self.patient.HasSymptoms.extend(symptoms)\n",
    "    \n",
    "    def get_nodal_regions(self):\n",
    "        return list(self.patient.HasLymphNodeRegion)\n",
    "    \n",
    "    def get_symptoms(self):\n",
    "        return list(self.patient.HasSymptoms)\n",
    "    \n",
    "    def set_extranodal_region(self, nodes: list):\n",
    "        self.patient.HasExtranodalRegion.extend(nodes)\n",
    "    \n",
    "    def get_extranodal_region(self):\n",
    "        return list(self.patient.HasExtranodalRegion)"
   ]
  },
  {
   "cell_type": "markdown",
   "id": "b3954441-e85c-469d-97ba-0d05cce8a7ab",
   "metadata": {},
   "source": [
    "##### create a patient caroline and have the reasoner inver Stage IIB"
   ]
  },
  {
   "cell_type": "code",
   "execution_count": 22,
   "id": "83eb7a32-6a66-402a-8499-c12cef64dbb6",
   "metadata": {},
   "outputs": [],
   "source": [
    "caroline = Patient(\"Caroline\", 22, \"female\")"
   ]
  },
  {
   "cell_type": "code",
   "execution_count": 23,
   "id": "52699f9c-5169-474d-9d0d-9e57dbbcd340",
   "metadata": {},
   "outputs": [
    {
     "data": {
      "text/plain": [
       "[BMI210Hodgkins.fever1,\n",
       " BMI210Hodgkins.nightsweats1,\n",
       " BMI210Hodgkins.weightloss1,\n",
       " BMI210Hodgkins.fever2,\n",
       " BMI210Hodgkins.nightsweats2,\n",
       " BMI210Hodgkins.weightloss2,\n",
       " BMI210Hodgkins.fever3,\n",
       " BMI210Hodgkins.nightsweats3,\n",
       " BMI210Hodgkins.weightloss3]"
      ]
     },
     "execution_count": 23,
     "metadata": {},
     "output_type": "execute_result"
    }
   ],
   "source": [
    "symptoms = [onto.Fever(), onto.NightSweats(), onto.WeightLoss()]\n",
    "caroline.set_symptoms(symptoms)\n",
    "caroline.get_symptoms()"
   ]
  },
  {
   "cell_type": "code",
   "execution_count": 24,
   "id": "e240b7f3-b426-400e-9886-0c9ecb505751",
   "metadata": {},
   "outputs": [],
   "source": [
    "nodes = [onto.RAxilla(), onto.RAxilla(), onto.RCervicalSCL()]\n",
    "extra_nodal = [onto.Localized()]\n",
    "caroline.set_nodal_regions(nodes)\n",
    "caroline.set_extranodal_region(extra_nodal)"
   ]
  },
  {
   "cell_type": "code",
   "execution_count": 25,
   "id": "0a77c1f4-dcdc-4c76-ad67-9fd4681d6fb1",
   "metadata": {},
   "outputs": [
    {
     "data": {
      "text/plain": [
       "[BMI210Hodgkins.localized4, BMI210Hodgkins.localized5]"
      ]
     },
     "execution_count": 25,
     "metadata": {},
     "output_type": "execute_result"
    }
   ],
   "source": [
    "caroline.get_extranodal_region()"
   ]
  },
  {
   "cell_type": "code",
   "execution_count": 37,
   "id": "37002125-9fe4-4d06-8c80-81a7004c0c3b",
   "metadata": {},
   "outputs": [
    {
     "data": {
      "text/plain": [
       "[BMI210Hodgkins.Caroline]"
      ]
     },
     "execution_count": 37,
     "metadata": {},
     "output_type": "execute_result"
    }
   ],
   "source": [
    "list(onto.Patient.instances())"
   ]
  },
  {
   "cell_type": "code",
   "execution_count": 47,
   "id": "5a21d5db-9e5d-484c-b64a-63c957fc6bd1",
   "metadata": {},
   "outputs": [],
   "source": []
  },
  {
   "cell_type": "code",
   "execution_count": null,
   "id": "98e753e4-a195-4688-9022-39b6c970c7e2",
   "metadata": {},
   "outputs": [],
   "source": []
  },
  {
   "cell_type": "code",
   "execution_count": null,
   "id": "93948666-d49a-494b-a63f-d4b34257c297",
   "metadata": {},
   "outputs": [],
   "source": []
  },
  {
   "cell_type": "code",
   "execution_count": 38,
   "id": "66b9e82f-fbed-46d7-82da-f964f02b90fa",
   "metadata": {},
   "outputs": [
    {
     "name": "stderr",
     "output_type": "stream",
     "text": [
      "* Owlready2 * Running HermiT...\n",
      "    java -Xmx2000M -cp /usr/local/lib/python3.9/site-packages/owlready2/hermit:/usr/local/lib/python3.9/site-packages/owlready2/hermit/HermiT.jar org.semanticweb.HermiT.cli.CommandLine -c -O -D -I file:////var/folders/yz/38lgyqs528z9f2stbm97rr3c0000gq/T/tmp9czgn_e2 -Y\n",
      "* Owlready2 * HermiT took 0.7342019081115723 seconds\n",
      "* Owlready * Equivalenting: BMI210Hodgkins.IV BMI210Hodgkins.StageIPS\n",
      "* Owlready * Equivalenting: BMI210Hodgkins.StageIPS BMI210Hodgkins.IV\n",
      "* Owlready * (NB: only changes on entities loaded in Python are shown, other changes are done but not listed)\n"
     ]
    }
   ],
   "source": [
    "owlready2.sync_reasoner(infer_property_values = True)"
   ]
  },
  {
   "cell_type": "code",
   "execution_count": null,
   "id": "760f02da-eb71-4354-b1be-b69f1c879ed8",
   "metadata": {},
   "outputs": [],
   "source": []
  },
  {
   "cell_type": "code",
   "execution_count": null,
   "id": "365665b9-c9ea-4f75-9642-d6bc3c15126f",
   "metadata": {},
   "outputs": [],
   "source": []
  },
  {
   "cell_type": "code",
   "execution_count": null,
   "id": "d5809384-36af-492e-be84-8ebce8b8a77a",
   "metadata": {},
   "outputs": [],
   "source": []
  },
  {
   "cell_type": "code",
   "execution_count": null,
   "id": "512a62e8-99ce-4e43-a57b-9b7c2765f8a8",
   "metadata": {},
   "outputs": [],
   "source": []
  },
  {
   "cell_type": "code",
   "execution_count": null,
   "id": "8e6e1588-1507-4cc8-ba28-5f0b594f7bd7",
   "metadata": {},
   "outputs": [],
   "source": []
  },
  {
   "cell_type": "code",
   "execution_count": null,
   "id": "22d757df-bef3-437c-86d1-84496b60fa8b",
   "metadata": {},
   "outputs": [],
   "source": []
  },
  {
   "cell_type": "code",
   "execution_count": null,
   "id": "0310f281-c174-47ec-a6ed-d57581240540",
   "metadata": {},
   "outputs": [],
   "source": []
  },
  {
   "cell_type": "code",
   "execution_count": null,
   "id": "b9fa9138-699c-47fe-ab0f-118aac9ab1a8",
   "metadata": {},
   "outputs": [],
   "source": []
  }
 ],
 "metadata": {
  "kernelspec": {
   "display_name": "bmi210",
   "language": "python",
   "name": "bmi210"
  },
  "language_info": {
   "codemirror_mode": {
    "name": "ipython",
    "version": 3
   },
   "file_extension": ".py",
   "mimetype": "text/x-python",
   "name": "python",
   "nbconvert_exporter": "python",
   "pygments_lexer": "ipython3",
   "version": "3.9.7"
  }
 },
 "nbformat": 4,
 "nbformat_minor": 5
}
